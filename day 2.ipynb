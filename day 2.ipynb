{
 "cells": [
  {
   "cell_type": "code",
   "execution_count": 3,
   "metadata": {},
   "outputs": [
    {
     "name": "stdout",
     "output_type": "stream",
     "text": [
      "Enter 1st sub marks:50\n",
      "Enter 2nd sub marks:90\n",
      "Enter 3rd sub marks:90\n",
      "Total marks: 230\n",
      "Grade A\n"
     ]
    }
   ],
   "source": [
    "'''Accept three values as input from the user , you need to check whether student got  min marks 30 in all the\n",
    "subjects , if not print fail if he get min marks fin average  if avg is >75 => print grade as A if the avg is between  60-75\n",
    "print grade is B ,if the avg between 30-60 print grade is c if  <30 print it as fail '''\n",
    "\n",
    "sub1=int(input('Enter 1st sub marks:'))\n",
    "sub2=int(input('Enter 2nd sub marks:'))\n",
    "sub3=int(input('Enter 3rd sub marks:')) \n",
    "total=sub1+sub2+sub3\n",
    "avg=total/3\n",
    "print('Total marks:',total)\n",
    "\n",
    "if sub1>=30 and sub2>=30 and sub3>=30:\n",
    "    if avg>=75: print('Grade A')\n",
    "    elif avg<75 and avg>=60:print('Grade B')\n",
    "    elif avg<60 and avg>=30:print('Grade C')\n",
    "    else :print('fail')\n",
    "    \n",
    "else:print('fail')\n"
   ]
  },
  {
   "cell_type": "code",
   "execution_count": 9,
   "metadata": {},
   "outputs": [
    {
     "name": "stdout",
     "output_type": "stream",
     "text": [
      "ENter a num:60\n",
      "you enetr Even num\n"
     ]
    }
   ],
   "source": [
    "# Check whether the given number is even or odd\n",
    "num=int(input('ENter a num:'))\n",
    "if num==0:print('you enter Zero')\n",
    "elif num%2==0 and num!=0:print('you enetr Even num')\n",
    "else:print('you enter Odd num')"
   ]
  },
  {
   "cell_type": "code",
   "execution_count": 14,
   "metadata": {},
   "outputs": [
    {
     "name": "stdout",
     "output_type": "stream",
     "text": [
      "Enter your Age:16\n",
      "The Person Not Eligible for Vote\n"
     ]
    }
   ],
   "source": [
    "#2. Accept age of a person and decide whether the candidate is eligible for     voting or not\n",
    "age=int(input('Enter your Age:'))\n",
    "if age>=18:print('The Person Eligible for Vote')\n",
    "else:print('The Person Not Eligible for Vote')"
   ]
  },
  {
   "cell_type": "code",
   "execution_count": 20,
   "metadata": {},
   "outputs": [
    {
     "name": "stdout",
     "output_type": "stream",
     "text": [
      "Enetr a number:22\n",
      "The given condition is not satisfied\n"
     ]
    }
   ],
   "source": [
    "#3. Check whether the given number is divible by 2 and 3 but not 4\n",
    "Num=int(input('Enetr a number:'))\n",
    "if Num %2==0 and Num %3==0 and Num %4!=0:\n",
    "    print ('The Given condition is satisfied')\n",
    "else:\n",
    "    print('The given condition is not satisfied')"
   ]
  },
  {
   "cell_type": "code",
   "execution_count": 26,
   "metadata": {},
   "outputs": [
    {
     "name": "stdout",
     "output_type": "stream",
     "text": [
      "Enter a Num23\n",
      "Enter a Num65\n",
      "Enter a Num44\n",
      "65  is large num\n"
     ]
    }
   ],
   "source": [
    "#4. find the large number from the given 3 numbers\n",
    "a=int(input('Enter a Num'))\n",
    "b=int(input('Enter a Num'))\n",
    "c=int(input('Enter a Num'))\n",
    "\n",
    "if a>b and a>c :print(a,'is large num')\n",
    "elif b>a and b>c:print(b,' is large num')\n",
    "elif c>a and c>b:print(c,'is large num')\n",
    "\n",
    "\n"
   ]
  },
  {
   "cell_type": "code",
   "execution_count": 34,
   "metadata": {},
   "outputs": [
    {
     "name": "stdout",
     "output_type": "stream",
     "text": [
      "Enter a Year2000\n",
      "It is century Leap year\n"
     ]
    }
   ],
   "source": [
    "5.# check whether the given year is leap year or not\n",
    "year=int(input('Enter a Year'))\n",
    "\n",
    "if year%4==0:\n",
    "    if year%100==0 and year%400!=0:print('It is century year butnot a Leap year')\n",
    "    elif year%100==0 and year%400==0:print('It is century Leap year')\n",
    "    else: print('It is leap year')\n",
    "\n",
    "else:print('It is non Leap year')"
   ]
  },
  {
   "cell_type": "code",
   "execution_count": 39,
   "metadata": {},
   "outputs": [
    {
     "name": "stdout",
     "output_type": "stream",
     "text": [
      "Enter the charseshu sai \n",
      "Enter a character:s\n",
      "3\n"
     ]
    }
   ],
   "source": [
    "#6. Read the string and char as input and print the number of occurances of charin the given string.\n",
    "chrip=input('Enter the char')\n",
    "x=chrip.count(input('Enter a character:'))\n",
    "print(x)"
   ]
  },
  {
   "cell_type": "code",
   "execution_count": 40,
   "metadata": {},
   "outputs": [
    {
     "name": "stdout",
     "output_type": "stream",
     "text": [
      "pYTHONpROGRmminG \n"
     ]
    }
   ],
   "source": [
    "#7. Read the input as string and print the output in the following manner\n",
    "x='PythonProgrMMINg '\n",
    "print(x.swapcase())"
   ]
  },
  {
   "cell_type": "code",
   "execution_count": 42,
   "metadata": {},
   "outputs": [
    {
     "name": "stdout",
     "output_type": "stream",
     "text": [
      "Enter a string:seshu\n",
      "The given condition is not satisfied\n"
     ]
    }
   ],
   "source": [
    "#8. Test whether the string is palindrome or not\n",
    "strng=input('Enter a string:')\n",
    "x=strng[::-1]\n",
    "if strng==x:print ('The given condition is satisfied')\n",
    "else:print('The given condition is not satisfied')"
   ]
  },
  {
   "cell_type": "code",
   "execution_count": 120,
   "metadata": {},
   "outputs": [
    {
     "name": "stdout",
     "output_type": "stream",
     "text": [
      "[1, 2, 3, 4, 5, 6]\n"
     ]
    }
   ],
   "source": [
    "#9. Convert string into list\n",
    "a='123456'\n",
    "b=[]\n",
    "for i in a:\n",
    "    b.append(int(i))\n",
    "print(b)"
   ]
  },
  {
   "cell_type": "code",
   "execution_count": 124,
   "metadata": {},
   "outputs": [
    {
     "name": "stdout",
     "output_type": "stream",
     "text": [
      "Swiftkey\n"
     ]
    }
   ],
   "source": [
    "#10.Print the second largest string from the list of string\n",
    "a=[\"Python\",\"Java\",\"C\",\"programming\", \"Swiftkey\"]\n",
    "a.sort()\n",
    "print(a[-2])"
   ]
  },
  {
   "cell_type": "code",
   "execution_count": 97,
   "metadata": {},
   "outputs": [
    {
     "name": "stdout",
     "output_type": "stream",
     "text": [
      "orange\n"
     ]
    }
   ],
   "source": [
    "# 11. Read the input as string and output will followed Reason: Print the next consonent to the vowel and print the vowel to the next  consonent\n",
    "\n",
    "a='orange'\n",
    "\n"
   ]
  },
  {
   "cell_type": "code",
   "execution_count": null,
   "metadata": {},
   "outputs": [],
   "source": []
  }
 ],
 "metadata": {
  "kernelspec": {
   "display_name": "Python 3",
   "language": "python",
   "name": "python3"
  },
  "language_info": {
   "codemirror_mode": {
    "name": "ipython",
    "version": 3
   },
   "file_extension": ".py",
   "mimetype": "text/x-python",
   "name": "python",
   "nbconvert_exporter": "python",
   "pygments_lexer": "ipython3",
   "version": "3.7.3"
  }
 },
 "nbformat": 4,
 "nbformat_minor": 2
}

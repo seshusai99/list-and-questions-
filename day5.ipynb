{
 "cells": [
  {
   "cell_type": "code",
   "execution_count": 5,
   "metadata": {},
   "outputs": [
    {
     "name": "stdout",
     "output_type": "stream",
     "text": [
      "Ennter a number:6\n",
      "factorail of 6 is 720\n"
     ]
    }
   ],
   "source": [
    "4. Write a user-defined function to find factorial of a number in all the possible ways\n",
    "def fact(n):\n",
    "    if n==0:\n",
    "        return 1\n",
    "    return n * fact(n-1)\n",
    "x=int(input('Ennter a number:'))\n",
    "result=fact(x)\n",
    "print('factorail of {} is {}'.format(x,result))"
   ]
  },
  {
   "cell_type": "code",
   "execution_count": 8,
   "metadata": {},
   "outputs": [
    {
     "name": "stdout",
     "output_type": "stream",
     "text": [
      "enter a number6\n",
      "1\n",
      "2\n",
      "3\n",
      "6\n"
     ]
    }
   ],
   "source": [
    "#1. Read a number as input and Print the Output as Factors of the given number\n",
    "n=int(input(\"enter a number\"))\n",
    "for i in range(1,n+1):\n",
    "   if n%i==0:\n",
    "       print(i)"
   ]
  },
  {
   "cell_type": "code",
   "execution_count": 11,
   "metadata": {},
   "outputs": [
    {
     "name": "stdout",
     "output_type": "stream",
     "text": [
      "number: 3654789\n",
      "9\n"
     ]
    }
   ],
   "source": [
    "#2.The program must accept an integer N as the input. Need to print the largest digit from the given number.\n",
    "a = (input(\"number: \"))\n",
    "print (sorted(list(a))[-1])"
   ]
  },
  {
   "cell_type": "code",
   "execution_count": 12,
   "metadata": {},
   "outputs": [
    {
     "name": "stdout",
     "output_type": "stream",
     "text": [
      "9\n"
     ]
    }
   ],
   "source": [
    "#2.The program must accept an integer N as the input. Need to print the largest digit from the given number.\n",
    "def large(*b):\n",
    "   x=list(b)\n",
    "   x.sort()\n",
    "   print(x[-1])\n",
    "large(6,9,1,8)"
   ]
  },
  {
   "cell_type": "code",
   "execution_count": 13,
   "metadata": {},
   "outputs": [
    {
     "name": "stdout",
     "output_type": "stream",
     "text": [
      "enter number123654\n",
      "6\n"
     ]
    }
   ],
   "source": [
    "#3The program must accept an integer N as the input. Need to print the output in the following manner.\n",
    "n1=int(input('enter number'))\n",
    "n2=0\n",
    "while n1>0:\n",
    "   rem=n1%10\n",
    "   if n2<rem:\n",
    "       n2=rem\n",
    "   n1=n1//10\n",
    "print(n2)\n"
   ]
  },
  {
   "cell_type": "code",
   "execution_count": null,
   "metadata": {},
   "outputs": [],
   "source": []
  }
 ],
 "metadata": {
  "kernelspec": {
   "display_name": "Python 3",
   "language": "python",
   "name": "python3"
  },
  "language_info": {
   "codemirror_mode": {
    "name": "ipython",
    "version": 3
   },
   "file_extension": ".py",
   "mimetype": "text/x-python",
   "name": "python",
   "nbconvert_exporter": "python",
   "pygments_lexer": "ipython3",
   "version": "3.7.3"
  }
 },
 "nbformat": 4,
 "nbformat_minor": 2
}

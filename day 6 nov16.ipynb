{
 "cells": [
  {
   "cell_type": "code",
   "execution_count": 4,
   "metadata": {},
   "outputs": [
    {
     "name": "stdout",
     "output_type": "stream",
     "text": [
      "Even numbers sum: 20\n",
      "Odd numbers sum: 25\n"
     ]
    }
   ],
   "source": [
    "#print even and odd numbers sum in a list\n",
    "\n",
    "def fun(lst):\n",
    "    even=0\n",
    "    odd=0\n",
    "    for i in lst:\n",
    "        if i%2==0:\n",
    "            even+=i\n",
    "        else:\n",
    "            odd+=i\n",
    "    print('Even numbers sum:',even)\n",
    "    print('Odd numbers sum:',odd)\n",
    "    \n",
    "lst=[1,2,3,4,5,6,7,8,9]     \n",
    "fun(lst)            "
   ]
  },
  {
   "cell_type": "markdown",
   "metadata": {},
   "source": [
    "# fibonacci series"
   ]
  },
  {
   "cell_type": "code",
   "execution_count": 17,
   "metadata": {},
   "outputs": [
    {
     "name": "stdout",
     "output_type": "stream",
     "text": [
      "21\n"
     ]
    }
   ],
   "source": [
    "def Fibonacci(n): \n",
    "    if n<0: \n",
    "        print(\"Incorrect input\") \n",
    "    # First Fibonacci number is 0 \n",
    "    elif n==1: \n",
    "        return 0\n",
    "    # Second Fibonacci number is 1 \n",
    "    elif n==2: \n",
    "        return 1\n",
    "    else: \n",
    "        return Fibonacci(n-1)+Fibonacci(n-2) \n",
    "    \n",
    "print(Fibonacci(9)) "
   ]
  },
  {
   "cell_type": "code",
   "execution_count": 20,
   "metadata": {},
   "outputs": [
    {
     "name": "stdout",
     "output_type": "stream",
     "text": [
      "13\n"
     ]
    }
   ],
   "source": [
    "def fibonacci(n): \n",
    "    a = 0\n",
    "    b = 1\n",
    "    if n < 0: \n",
    "        print(\"Incorrect input\") \n",
    "    elif n == 0: \n",
    "        return a \n",
    "    elif n == 1: \n",
    "        return b \n",
    "    else: \n",
    "        for i in range(2,n): \n",
    "            c = a + b \n",
    "            a = b \n",
    "            b = c \n",
    "        return b \n",
    "print(fibonacci(8)) "
   ]
  },
  {
   "cell_type": "code",
   "execution_count": 23,
   "metadata": {},
   "outputs": [
    {
     "name": "stdout",
     "output_type": "stream",
     "text": [
      "enter the range:9\n",
      "1\n",
      "3\n",
      "6\n",
      "10\n",
      "15\n",
      "21\n",
      "28\n",
      "36\n"
     ]
    }
   ],
   "source": [
    "n=int(input(\"enter the range:\"))\n",
    "a=0\n",
    "b=1\n",
    "i=2\n",
    "sum=0\n",
    "while i<=n:\n",
    "   sum=a+b\n",
    "   a=sum\n",
    "   b=i\n",
    "   print(sum)\n",
    "   i+=1\n"
   ]
  },
  {
   "cell_type": "code",
   "execution_count": 23,
   "metadata": {},
   "outputs": [
    {
     "name": "stdout",
     "output_type": "stream",
     "text": [
      "Enter a num:153\n",
      "sum of nums is  153\n",
      "It is armstrong number\n"
     ]
    }
   ],
   "source": [
    "\n",
    "\n",
    "def arms():\n",
    "    num=int(input('Enter a num:'))\n",
    "    x=len(str(num))   \n",
    "    y=[]\n",
    "    for i in str(num):\n",
    "        sum=int(i)**x\n",
    "        y.append(sum)\n",
    "    k=0\n",
    "    for ele in y:\n",
    "        k+=ele\n",
    "    print('sum of nums is ',k)\n",
    "    \n",
    "    if k==num:\n",
    "        print('It is armstrong number')\n",
    "    else:\n",
    "        print('It is not armstrong number')\n",
    "\n",
    "arms()"
   ]
  },
  {
   "cell_type": "code",
   "execution_count": 3,
   "metadata": {},
   "outputs": [
    {
     "name": "stdout",
     "output_type": "stream",
     "text": [
      "0 1 Ennter a num:9\n",
      "1 2 3 5 8 13 21 "
     ]
    }
   ],
   "source": [
    "fn=0\n",
    "sn=1\n",
    "print(fn,sn,end=' ')\n",
    "n=int(input('Ennter a num:'))\n",
    "\n",
    "for i in range(3,n+1):\n",
    "    nx=fn+sn\n",
    "    print(nx,end=' ')\n",
    "    fn=sn\n",
    "    sn=nx\n",
    "    "
   ]
  },
  {
   "cell_type": "code",
   "execution_count": 6,
   "metadata": {},
   "outputs": [
    {
     "name": "stdout",
     "output_type": "stream",
     "text": [
      "Enter a num:258\n",
      "Not a armstrong num\n"
     ]
    }
   ],
   "source": [
    "num=int(input('Enter a num:'))\n",
    "temp=num\n",
    "lent=len(str(num))\n",
    "arm=0\n",
    "\n",
    "while num>0:\n",
    "    rem=num%10\n",
    "    arm=arm+(rem**lent)\n",
    "    num=num//10\n",
    "if temp==arm:\n",
    "    print('Armstrong num')\n",
    "else:print('Not a armstrong num')"
   ]
  },
  {
   "cell_type": "markdown",
   "metadata": {},
   "source": [
    "# natural num and squers sum"
   ]
  },
  {
   "cell_type": "code",
   "execution_count": 25,
   "metadata": {},
   "outputs": [
    {
     "name": "stdout",
     "output_type": "stream",
     "text": [
      "Eenter a num:1\n",
      "Eenter a num:10\n",
      "nums in range [1, 2, 3, 4, 5, 6, 7, 8, 9]\n",
      "Total of nums sum 45\n",
      "sure of num in range [1, 4, 9, 16, 25, 36, 49, 64, 81]\n",
      "Total of nums squre sum 285\n"
     ]
    }
   ],
   "source": [
    "a=int(input('Eenter a num:'))\n",
    "b=int(input('Eenter a num:'))\n",
    "s=[]\n",
    "s1=[]\n",
    "sum=0\n",
    "sum1=0\n",
    "for i in range(a,b):\n",
    "    sum+=i\n",
    "    s.append(i)\n",
    "    sum1+=i**2\n",
    "    s1.append(i**2)\n",
    "print('nums in range',s)    \n",
    "print('Total of nums sum',sum)\n",
    "print('sure of num in range',s1)\n",
    "print('Total of nums squre sum',sum1)"
   ]
  },
  {
   "cell_type": "markdown",
   "metadata": {},
   "source": [
    "# Perfect num"
   ]
  },
  {
   "cell_type": "code",
   "execution_count": 47,
   "metadata": {},
   "outputs": [
    {
     "name": "stdout",
     "output_type": "stream",
     "text": [
      "Enter a num:128\n",
      "It is not a perfect num\n"
     ]
    }
   ],
   "source": [
    "x=int(input('Enter a num:'))\n",
    "sum=0\n",
    "for i in range(1,x):\n",
    "        if x%i==0:\n",
    "            sum+=i\n",
    "if x==sum:\n",
    "    print('It is perfect num')\n",
    "else:print('It is not a perfect num')\n",
    "        "
   ]
  },
  {
   "cell_type": "markdown",
   "metadata": {},
   "source": [
    "# Program to find sum of squares of natural num\n",
    "\n",
    "# Program to find perfect num\n",
    "\n",
    "# Program to find the count of palindromes in a given range\n",
    "\n",
    "# input:123456\n",
    "# output : 6 (capture the large digit)\n",
    "# input : Good Morning, good time  # output :morning(Highest length word)"
   ]
  },
  {
   "cell_type": "code",
   "execution_count": 51,
   "metadata": {},
   "outputs": [
    {
     "name": "stdout",
     "output_type": "stream",
     "text": [
      "10\n",
      "20\n",
      "30\n",
      "40\n"
     ]
    }
   ],
   "source": [
    "#Program to find the count of palindromes in a given range\n",
    "\n",
    "for i in range(1,50):\n",
    "    if i%10==0:\n",
    "        print(i)"
   ]
  },
  {
   "cell_type": "code",
   "execution_count": null,
   "metadata": {},
   "outputs": [],
   "source": []
  },
  {
   "cell_type": "code",
   "execution_count": null,
   "metadata": {},
   "outputs": [],
   "source": []
  }
 ],
 "metadata": {
  "kernelspec": {
   "display_name": "Python 3",
   "language": "python",
   "name": "python3"
  },
  "language_info": {
   "codemirror_mode": {
    "name": "ipython",
    "version": 3
   },
   "file_extension": ".py",
   "mimetype": "text/x-python",
   "name": "python",
   "nbconvert_exporter": "python",
   "pygments_lexer": "ipython3",
   "version": "3.7.3"
  }
 },
 "nbformat": 4,
 "nbformat_minor": 2
}

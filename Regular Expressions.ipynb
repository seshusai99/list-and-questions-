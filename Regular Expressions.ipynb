{
 "cells": [
  {
   "cell_type": "code",
   "execution_count": 1,
   "metadata": {},
   "outputs": [],
   "source": [
    "# Regular Expressions \n",
    "import  re\n",
    "# Pattern Matching \n",
    "#Digits,Ala *lower and Upper case\n",
    "#https://www.regexpal.com     \n",
    "#java script, jquery ,angular js, node js, asp.net, php, python\n",
    "# math ,od,re,,st, random,numpy, pandas , matplotlib"
   ]
  },
  {
   "cell_type": "code",
   "execution_count": 3,
   "metadata": {},
   "outputs": [],
   "source": [
    "# To satrt any regular expression ---^(cap)\n",
    "# To end regular expression -- $(dollar)\n",
    "# To match digits ---[0-9]\n",
    "# Repitations --{}      /^[0-9]{2}$/g\n",
    "#"
   ]
  },
  {
   "cell_type": "code",
   "execution_count": 1,
   "metadata": {},
   "outputs": [
    {
     "name": "stdout",
     "output_type": "stream",
     "text": [
      "True\n",
      "False\n"
     ]
    }
   ],
   "source": [
    "# Built Python code to match the two digit number\n",
    "import re\n",
    "def twoDigitNumberMatch(n):\n",
    "    pattern=\"^[0-9]{2}$\"\n",
    "    n=str(n)\n",
    "    if re.match(pattern,n):\n",
    "        return True\n",
    "    return False\n",
    "print(twoDigitNumberMatch(12))# True\n",
    "print(twoDigitNumberMatch(123))#False"
   ]
  },
  {
   "cell_type": "code",
   "execution_count": 6,
   "metadata": {},
   "outputs": [],
   "source": [
    "# Username Match\n",
    "# Lower case and Upper case\n",
    "#[a-z]\n",
    "#[A-Z]\n",
    "#Length of User name -- "
   ]
  },
  {
   "cell_type": "code",
   "execution_count": 5,
   "metadata": {},
   "outputs": [
    {
     "name": "stdout",
     "output_type": "stream",
     "text": [
      "True\n",
      "False\n"
     ]
    }
   ],
   "source": [
    "import re\n",
    "def matchusername(s):\n",
    "    pattern='^[A-Z a-z 0-9 _]{6,15}$'\n",
    "    if re.match(pattern,s):\n",
    "        return True\n",
    "    return False\n",
    "\n",
    "print(matchusername('Anil_1889')) #True\n",
    "print(matchusername('Anil') )    #False"
   ]
  },
  {
   "cell_type": "markdown",
   "metadata": {},
   "source": [
    "# REgular Expression to validate the Roll Number\n",
    "#Example: 1521A0501\n",
    "#Example : 1521A0109\n",
    "#Exmple : 1521A0499"
   ]
  },
  {
   "cell_type": "code",
   "execution_count": 4,
   "metadata": {},
   "outputs": [
    {
     "name": "stdout",
     "output_type": "stream",
     "text": [
      "True\n",
      "False\n"
     ]
    }
   ],
   "source": [
    "import re\n",
    "def Rollnum(n):\n",
    "    pattern=\"^[1][5][2][1][A a][0-9]{4,8}$\" \n",
    "    if re.match(pattern,n):\n",
    "        return True\n",
    "    return False\n",
    "print(Rollnum('1521A0501'))\n",
    "print(Rollnum('1531A0501'))"
   ]
  },
  {
   "cell_type": "markdown",
   "metadata": {},
   "source": [
    "#  Regular Expressionb to validate the passowrd\n",
    "\n",
    "#parameters  : len min:6 max 15characters\n",
    "#accepet lower and upper case ,digits special cahr (@,#,!0)"
   ]
  },
  {
   "cell_type": "code",
   "execution_count": 17,
   "metadata": {},
   "outputs": [
    {
     "name": "stdout",
     "output_type": "stream",
     "text": [
      "False\n"
     ]
    }
   ],
   "source": [
    "import re\n",
    "def VALIDATE(n):\n",
    "    pattern=\"$[A-Z A-Z 0-9 @ # !] {6,15}\"  \n",
    "    if re.match(pattern,n):\n",
    "        return True\n",
    "    return False\n",
    "print(VALIDATE('Seshu12@'))"
   ]
  },
  {
   "cell_type": "code",
   "execution_count": 18,
   "metadata": {},
   "outputs": [],
   "source": [
    "import re \n",
    "# 10 digits\n",
    "#[6-9] --- 1 digit\n",
    "#[0-9] ----9 digitS\n",
    "# Example : 9505062988  (9966552211)\n",
    "#Example :09505062988\n",
    "#Example :+919505062988"
   ]
  },
  {
   "cell_type": "code",
   "execution_count": 22,
   "metadata": {},
   "outputs": [
    {
     "name": "stdout",
     "output_type": "stream",
     "text": [
      "True\n",
      "False\n"
     ]
    }
   ],
   "source": [
    "import re\n",
    "def validateIndiaMobile(n):\n",
    "    pattern=\"^[6-9][0-9]{9}\"\n",
    "    n=str(n)\n",
    "    if re.match(pattern,n):\n",
    "        return True\n",
    "    return False\n",
    "\n",
    "print(validateIndiaMobile(9505062988)) # True\n",
    "print(validateIndiaMobile(4455123456))  # false\n",
    "    "
   ]
  },
  {
   "cell_type": "code",
   "execution_count": 8,
   "metadata": {},
   "outputs": [
    {
     "name": "stdout",
     "output_type": "stream",
     "text": [
      "True\n",
      "False\n"
     ]
    }
   ],
   "source": [
    "import re\n",
    "def validateIndiaMobile(n):\n",
    "    pattern=\"^[6-9][0-9]{9}$|^[+][9][1][6-9]{9}$|^[0][6-9][0-9]{9}$\"\n",
    "    n=str(n)\n",
    "    if re.match(pattern,n):\n",
    "        return True\n",
    "    return False\n",
    "\n",
    "print(validateIndiaMobile(9505062988)) # True\n",
    "print(validateIndiaMobile(4455123456))  # false"
   ]
  },
  {
   "cell_type": "code",
   "execution_count": 10,
   "metadata": {},
   "outputs": [],
   "source": [
    "# usernaem @ Domainname . extension\n",
    "# Username ---- [A-Z a-z][a-z A-Z 0-9 _ .]{5,15}\n",
    "     #Lower Upper case digits and underscore(First cahr Lower or Upper)\n",
    "    # max -16 char  min-6 char\n",
    "    \n",
    "# domain name ---  [A-Z a-z]{3,10}\n",
    "          # Gmail ,Yahoo ,Redif  \n",
    "        #only char --Lower or upper case min -3  max -10\n",
    "    \n",
    "#extension ---  [A-Z a-z]{2,3}\n",
    "# com in ou org en us"
   ]
  },
  {
   "cell_type": "code",
   "execution_count": 17,
   "metadata": {},
   "outputs": [
    {
     "name": "stdout",
     "output_type": "stream",
     "text": [
      "True\n",
      "False\n"
     ]
    }
   ],
   "source": [
    "import re\n",
    "def validateEmailID(email):\n",
    "    pattern='^[A-Z a-z][a-z A-Z 0-9 _ .]{5,15}[@][A-Z a-z]{3,10}[.][A-Z a-z]{2,3}$'\n",
    "    if re.match(pattern,email):\n",
    "        return True\n",
    "    return False\n",
    "\n",
    "print(validateEmailID('AnilKumar.1889@dhanahita.org'))\n",
    "print(validateEmailID('1889.anilkumar@promise.in'))"
   ]
  },
  {
   "cell_type": "code",
   "execution_count": 6,
   "metadata": {},
   "outputs": [
    {
     "name": "stdout",
     "output_type": "stream",
     "text": [
      "False\n",
      "False\n"
     ]
    }
   ],
   "source": [
    "import re\n",
    "def Rollnum(n):\n",
    "    pattern=\"^[1521][A][0-9]{4}$\"\n",
    "    if re.match(pattern,n):\n",
    "        return True\n",
    "    return False\n",
    "print(Rollnum('1521A0501'))\n",
    "print(Rollnum('1531A0501'))"
   ]
  },
  {
   "cell_type": "markdown",
   "metadata": {},
   "source": [
    "# Turtle"
   ]
  },
  {
   "cell_type": "code",
   "execution_count": 1,
   "metadata": {},
   "outputs": [],
   "source": [
    "#Import the package Turtle\n",
    "\n",
    "import turtle\n",
    "                         #object to turtle\n",
    "        #create a new turtle\n",
    "\n",
    "#a1=turtle.Turtle()\n",
    "                            #Draw a line\n",
    "\n",
    "#a1.forward(150)\n",
    "\n",
    "                          #done() --- close the window\n",
    "\n",
    "#turtle.done()\n"
   ]
  },
  {
   "cell_type": "markdown",
   "metadata": {},
   "source": [
    "# ## Package ,Module and Subpackage\n",
    "### package\n",
    "        - A collection of Modules (Single Python file .py)\n",
    "### Module\n",
    "      - A single Python File Contains grroup of functions \n",
    "      \n",
    "      - Package  ->  subpackage -> Modules -> Functions  -> Statements\n",
    "      \n",
    "      -"
   ]
  },
  {
   "cell_type": "markdown",
   "metadata": {},
   "source": [
    "# Random"
   ]
  },
  {
   "cell_type": "code",
   "execution_count": 5,
   "metadata": {},
   "outputs": [
    {
     "name": "stdout",
     "output_type": "stream",
     "text": [
      "92 53 55 5 5 88 90 96 33 69 "
     ]
    }
   ],
   "source": [
    "import random\n",
    "\n",
    "def generation(n,lb,ub):\n",
    "    for i in range(0,n):\n",
    "        print(random.randint(lb,ub),end=' ')\n",
    "    return \n",
    "\n",
    "generation(10,0,100)"
   ]
  },
  {
   "cell_type": "code",
   "execution_count": 6,
   "metadata": {},
   "outputs": [],
   "source": [
    "# create a simple game \n",
    "# Try to generate 20 numbers\n",
    "# input : NUmber\n",
    "# Present  : Congrats!!!\n",
    "# Not Present : Try Again"
   ]
  },
  {
   "cell_type": "code",
   "execution_count": 35,
   "metadata": {},
   "outputs": [
    {
     "name": "stdout",
     "output_type": "stream",
     "text": [
      "Enter a num:465\n",
      "[251, 385, 738, 465, 290, 303, 455, 830, 985, 194, 946, 107, 248, 487, 912, 799, 370, 934, 739, 811]\n",
      "Congrats!!!\n"
     ]
    }
   ],
   "source": [
    "# guess game\n",
    "\n",
    "from random import randint as rdint\n",
    "def generateNum(n,lb,ub):\n",
    "    li=[]\n",
    "    for i in range(0,n):\n",
    "        li.append(rdint(lb,ub))\n",
    "    return li\n",
    "\n",
    "def check(n):\n",
    "    li= generateNum(20,100,999)\n",
    "    print(li)\n",
    "    if n in li:\n",
    "        print('Congrats!!!')\n",
    "    else:\n",
    "        print(\"Try Again !!!\")\n",
    "    return\n",
    "num=int(input('Enter a num:'))\n",
    "check(num)"
   ]
  },
  {
   "cell_type": "code",
   "execution_count": 36,
   "metadata": {},
   "outputs": [],
   "source": [
    "#Draw a line using Turtle Graphics"
   ]
  },
  {
   "cell_type": "code",
   "execution_count": 3,
   "metadata": {},
   "outputs": [
    {
     "data": {
      "text/plain": [
       "'import turtle as tt\\na1=tt.Turtle()\\na1.backward(150)\\ntt.done()'"
      ]
     },
     "execution_count": 3,
     "metadata": {},
     "output_type": "execute_result"
    }
   ],
   "source": [
    "'''import turtle as tt\n",
    "a1=tt.Turtle()\n",
    "a1.backward(150)\n",
    "tt.done()'''"
   ]
  },
  {
   "cell_type": "code",
   "execution_count": 5,
   "metadata": {},
   "outputs": [],
   "source": [
    "'''import turtle as tt\n",
    "a1=tt.Turtle()\n",
    "a1.forward(150)\n",
    "a1.right(90)\n",
    "a1.forward(150)\n",
    "a1.right(90)\n",
    "a1.forward(150)\n",
    "a1.right(90)\n",
    "a1.forward(150)\n",
    "a1.right(90)\n",
    "tt.done()'''"
   ]
  },
  {
   "cell_type": "code",
   "execution_count": 2,
   "metadata": {},
   "outputs": [
    {
     "data": {
      "text/plain": [
       "'aa=tt.turtle()\\nfor i in range(40):\\n    aa.forward(150)\\n    aa.right(90)\\ntt.done()'"
      ]
     },
     "execution_count": 2,
     "metadata": {},
     "output_type": "execute_result"
    }
   ],
   "source": [
    "import turtle as tt\n",
    "'''aa=tt.turtle()\n",
    "for i in range(40):\n",
    "    aa.forward(150)\n",
    "    aa.right(90)\n",
    "tt.done()'''"
   ]
  },
  {
   "cell_type": "code",
   "execution_count": 1,
   "metadata": {},
   "outputs": [],
   "source": [
    "import turtle\n",
    "turtle.shape(\"circle\")"
   ]
  },
  {
   "cell_type": "code",
   "execution_count": null,
   "metadata": {},
   "outputs": [],
   "source": []
  }
 ],
 "metadata": {
  "kernelspec": {
   "display_name": "Python 3",
   "language": "python",
   "name": "python3"
  },
  "language_info": {
   "codemirror_mode": {
    "name": "ipython",
    "version": 3
   },
   "file_extension": ".py",
   "mimetype": "text/x-python",
   "name": "python",
   "nbconvert_exporter": "python",
   "pygments_lexer": "ipython3",
   "version": "3.7.3"
  }
 },
 "nbformat": 4,
 "nbformat_minor": 2
}

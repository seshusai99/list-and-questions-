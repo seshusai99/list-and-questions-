{
 "cells": [
  {
   "cell_type": "code",
   "execution_count": 1,
   "metadata": {},
   "outputs": [
    {
     "name": "stdout",
     "output_type": "stream",
     "text": [
      "{}\n"
     ]
    }
   ],
   "source": [
    "#The clear() method removes all the elements from a dictionary. \n",
    "#Syntax dictionary.clear()\n",
    "car = {\n",
    "  \"brand\": \"Ford\",\n",
    "  \"model\": \"Mustang\",\n",
    "  \"year\": 1964\n",
    "}\n",
    "\n",
    "car.clear()\n",
    "\n",
    "print(car)\n",
    "\n"
   ]
  },
  {
   "cell_type": "code",
   "execution_count": 2,
   "metadata": {},
   "outputs": [
    {
     "name": "stdout",
     "output_type": "stream",
     "text": [
      "{'brand': 'Ford', 'model': 'Mustang', 'year': 1964}\n"
     ]
    }
   ],
   "source": [
    "#The copy() method returns a copy of the specified dictionary.\n",
    "#Syntax dictionary.copy()\n",
    "car = {\n",
    "  \"brand\": \"Ford\",\n",
    "  \"model\": \"Mustang\",\n",
    "  \"year\": 1964\n",
    "}\n",
    "\n",
    "x = car.copy()\n",
    "\n",
    "print(x)\n"
   ]
  },
  {
   "cell_type": "code",
   "execution_count": 8,
   "metadata": {},
   "outputs": [
    {
     "name": "stdout",
     "output_type": "stream",
     "text": [
      "{'key1': 0, 'key2': 0, 'key3': 0}\n"
     ]
    }
   ],
   "source": [
    "#The fromkeys() method returns a dictionary with the specified keys and values\n",
    "#Syntax dict.fromkeys(keys, value)\n",
    "x = ('key1', 'key2', 'key3')\n",
    "y = 0\n",
    "thisdict = dict.fromkeys(x, y)\n",
    "\n",
    "print(thisdict)"
   ]
  },
  {
   "cell_type": "code",
   "execution_count": 9,
   "metadata": {},
   "outputs": [
    {
     "name": "stdout",
     "output_type": "stream",
     "text": [
      "Mustang\n"
     ]
    }
   ],
   "source": [
    "#The get() method returns the value of the item with the specified key.\n",
    "#Syntax dictionary.get(keyname, value)\n",
    "car = {\n",
    "  \"brand\": \"Ford\",\n",
    "  \"model\": \"Mustang\",\n",
    "  \"year\": 1964 }\n",
    "x = car.get(\"model\")\n",
    "print(x)"
   ]
  },
  {
   "cell_type": "code",
   "execution_count": 10,
   "metadata": {},
   "outputs": [
    {
     "name": "stdout",
     "output_type": "stream",
     "text": [
      "15000\n"
     ]
    }
   ],
   "source": [
    "#return the value of an item that do not exist:\n",
    "car = {\n",
    "  \"brand\": \"Ford\",\n",
    "  \"model\": \"Mustang\",\n",
    "  \"year\": 1964\n",
    "}\n",
    "\n",
    "x = car.get(\"price\", 15000)\n",
    "\n",
    "print(x)"
   ]
  },
  {
   "cell_type": "code",
   "execution_count": 11,
   "metadata": {},
   "outputs": [
    {
     "name": "stdout",
     "output_type": "stream",
     "text": [
      "dict_items([('brand', 'Ford'), ('model', 'Mustang'), ('year', 2018)])\n"
     ]
    }
   ],
   "source": [
    "#The items() method returns a view object. The view object contains the key-value pairs of the dictionary, as tuples in a list.\n",
    "#Syntax dictionary.items()\n",
    "car = {\n",
    "  \"brand\": \"Ford\",\n",
    "  \"model\": \"Mustang\",\n",
    "  \"year\": 1964\n",
    "}\n",
    "\n",
    "x = car.items()\n",
    "\n",
    "car[\"year\"] = 2018\n",
    "\n",
    "print(x)"
   ]
  },
  {
   "cell_type": "code",
   "execution_count": 12,
   "metadata": {},
   "outputs": [
    {
     "name": "stdout",
     "output_type": "stream",
     "text": [
      "dict_keys(['brand', 'model', 'year'])\n"
     ]
    }
   ],
   "source": [
    "#The keys() method returns a view object. The view object contains the keys of the dictionary, as a list.\n",
    "car = {\n",
    "  \"brand\": \"Ford\",\n",
    "  \"model\": \"Mustang\",\n",
    "  \"year\": 1964\n",
    "}\n",
    "\n",
    "x = car.keys()\n",
    "\n",
    "print(x)"
   ]
  },
  {
   "cell_type": "code",
   "execution_count": 13,
   "metadata": {},
   "outputs": [
    {
     "name": "stdout",
     "output_type": "stream",
     "text": [
      "Mustang\n"
     ]
    }
   ],
   "source": [
    "#The pop() method removes the specified item from the dictionary.\n",
    "#Syntax dictionary.pop(keyname, defaultvalue)\n",
    "car = {\n",
    "  \"brand\": \"Ford\",\n",
    "  \"model\": \"Mustang\",\n",
    "  \"year\": 1964\n",
    "}\n",
    "\n",
    "x = car.pop(\"model\")\n",
    "\n",
    "print(x)"
   ]
  },
  {
   "cell_type": "code",
   "execution_count": 20,
   "metadata": {},
   "outputs": [
    {
     "name": "stdout",
     "output_type": "stream",
     "text": [
      "{'brand': 'Ford', 'model': 'Mustang'}\n"
     ]
    }
   ],
   "source": [
    "#The popitem() method removes the item that was last inserted into the dictionary. \n",
    "#In versions before 3.7, the popitem() method removes a random item.\n",
    "#Syntax dictionary.popitem(keyname, defaultvalue\n",
    "\n",
    "car = {\n",
    "  \"brand\": \"Ford\",\n",
    "  \"model\": \"Mustang\",\n",
    "  \"year\": 1964\n",
    "}\n",
    "\n",
    "car.popitem()\n",
    "\n",
    "print(car)"
   ]
  },
  {
   "cell_type": "code",
   "execution_count": 22,
   "metadata": {},
   "outputs": [
    {
     "name": "stdout",
     "output_type": "stream",
     "text": [
      "Mustang\n"
     ]
    }
   ],
   "source": [
    "#The setdefault() method returns the value of the item with the specified key.\n",
    "#If the key does not exist, insert the key, with the specified value, see example below\n",
    "car = {\n",
    "  \"brand\": \"Ford\",\n",
    "  \"model\": \"Mustang\",\n",
    "  \"year\": 1964\n",
    "}\n",
    "\n",
    "x = car.setdefault(\"model\", \"Bronco\")\n",
    "\n",
    "print(x)\n"
   ]
  },
  {
   "cell_type": "code",
   "execution_count": 23,
   "metadata": {},
   "outputs": [
    {
     "name": "stdout",
     "output_type": "stream",
     "text": [
      "{'brand': 'Ford', 'model': 'Mustang', 'year': 1964, 'color': 'White'}\n"
     ]
    }
   ],
   "source": [
    "#The update() method inserts the specified items to the dictionary.\n",
    "#The specified items can be a dictionary, or an iterable object.\n",
    "car = {\n",
    "  \"brand\": \"Ford\",\n",
    "  \"model\": \"Mustang\",\n",
    "  \"year\": 1964\n",
    "}\n",
    "\n",
    "car.update({\"color\": \"White\"})\n",
    "\n",
    "print(car)"
   ]
  },
  {
   "cell_type": "code",
   "execution_count": 24,
   "metadata": {},
   "outputs": [
    {
     "name": "stdout",
     "output_type": "stream",
     "text": [
      "dict_values(['Ford', 'Mustang', 2018])\n"
     ]
    }
   ],
   "source": [
    "#The values() method returns a view object. The view object contains the values of the dictionary, as a list.\n",
    "\n",
    "#The view object will reflect any changes done to the dictionary, see example below.\n",
    "car = {\n",
    "  \"brand\": \"Ford\",\n",
    "  \"model\": \"Mustang\",\n",
    "  \"year\": 1964\n",
    "}\n",
    "\n",
    "x = car.values()\n",
    "\n",
    "car[\"year\"] = 2018\n",
    "\n",
    "print(x)"
   ]
  },
  {
   "cell_type": "markdown",
   "metadata": {},
   "source": [
    "# questions"
   ]
  },
  {
   "cell_type": "code",
   "execution_count": 25,
   "metadata": {},
   "outputs": [
    {
     "name": "stdout",
     "output_type": "stream",
     "text": [
      "Enter a word:orange\n",
      "puboif"
     ]
    }
   ],
   "source": [
    "#1Read the input as string and Output will followed\n",
    "#Input : orange  Output : puboif\n",
    "#Print the next consonent to the vowel and print the vowel to the next  consonent\n",
    "inp=input('Enter a word:')\n",
    "vol='aeiou'\n",
    "for i in inp:\n",
    "    if i in vol:\n",
    "        print(chr(ord(i)+1),end='')\n",
    "    else:\n",
    "        if ord(i)>97 and ord(i)<101:\n",
    "            print('e',end='')\n",
    "        elif ord(i)>101 and ord(i)<105:\n",
    "            print('i',end='')\n",
    "        elif ord(i)>105 and ord(i)<111:\n",
    "            print('o',end='')\n",
    "        elif ord(i)>111 and ord(i)<117:\n",
    "            print('u',end='')\n",
    "        else:\n",
    "            print('a',end='')\n",
    "            "
   ]
  },
  {
   "cell_type": "code",
   "execution_count": 48,
   "metadata": {},
   "outputs": [
    {
     "name": "stdout",
     "output_type": "stream",
     "text": [
      "python easy "
     ]
    }
   ],
   "source": [
    "#Read the input as string and Output will be alternate words in lower case\n",
    "a='Learn Python Programming EASy'\n",
    "b=a.split(' ')\n",
    "c=b[1::2]\n",
    "for i in c:\n",
    "    print(i.lower(),end=' ')   "
   ]
  },
  {
   "cell_type": "code",
   "execution_count": 58,
   "metadata": {},
   "outputs": [
    {
     "name": "stdout",
     "output_type": "stream",
     "text": [
      "enter a string:hai Hello How Are you Are\n",
      "hello are are "
     ]
    }
   ],
   "source": [
    "a=input(\"enter a string:\")\n",
    "a=a.split(' ')\n",
    "b=a[1::2]\n",
    "for i in b:\n",
    "    print(i.lower(),end=' ')   "
   ]
  },
  {
   "cell_type": "code",
   "execution_count": 30,
   "metadata": {},
   "outputs": [
    {
     "name": "stdout",
     "output_type": "stream",
     "text": [
      "8\n",
      "8\n",
      "sum: 16\n"
     ]
    }
   ],
   "source": [
    "#3 Read the input as string and Print the Output as Only even digit sum\n",
    "inp= 'Applc18iation89'\n",
    "num='2468'\n",
    "sum=0\n",
    "for i in inp:\n",
    "    if i in num:\n",
    "        y=int(i)\n",
    "        sum=sum+y\n",
    "        print(i)\n",
    "print('sum:',sum)\n"
   ]
  },
  {
   "cell_type": "code",
   "execution_count": 3,
   "metadata": {},
   "outputs": [
    {
     "name": "stdout",
     "output_type": "stream",
     "text": [
      "pYTHONpROGRmminG \n"
     ]
    }
   ],
   "source": [
    "a='PythonProgrMMINg '\n",
    "b=''\n",
    "for i in a:\n",
    "    if i.isupper()==True:\n",
    "        b=b+i.lower()\n",
    "    else:\n",
    "        b=b+i.upper()\n",
    "\n",
    "print(b)"
   ]
  },
  {
   "cell_type": "markdown",
   "metadata": {},
   "source": [
    "#1. Accept name as input and search for that name in the master list if the name is available, print yes         or print no"
   ]
  },
  {
   "cell_type": "code",
   "execution_count": 16,
   "metadata": {},
   "outputs": [
    {
     "name": "stdout",
     "output_type": "stream",
     "text": [
      "Enter a Name :seshu\n",
      "yes\n"
     ]
    }
   ],
   "source": [
    "ml =['seshu','sai','babu','ram','ravi','madhu','sudhakar']\n",
    "\n",
    "def check(name):\n",
    "    if name in ml:\n",
    "        print('yes')\n",
    "    else:print('no')\n",
    "\n",
    "inp=input('Enter a Name :')\n",
    "check(inp)"
   ]
  },
  {
   "cell_type": "markdown",
   "metadata": {},
   "source": [
    "# Print the count of the students whose age is >20"
   ]
  },
  {
   "cell_type": "code",
   "execution_count": 5,
   "metadata": {},
   "outputs": [
    {
     "name": "stdout",
     "output_type": "stream",
     "text": [
      "5\n"
     ]
    }
   ],
   "source": [
    "def count(age):\n",
    "    x=[]\n",
    "    for i in age.values():\n",
    "        if i>20:\n",
    "            x.append(i)\n",
    "    print(len(x))\n",
    "              \n",
    "sl={'seshu':27,'sai':19,'babu':18,'ram':24,'ravi':26,'madhu':22,'sudhakar':28,'subbu':16}\n",
    "count(sl)\n"
   ]
  },
  {
   "cell_type": "code",
   "execution_count": 1,
   "metadata": {},
   "outputs": [
    {
     "name": "stdout",
     "output_type": "stream",
     "text": [
      "count of x is : 5\n"
     ]
    }
   ],
   "source": [
    "sl={'seshu':27,'sai':19,'babu':18,'ram':24,'ravi':26,'madhu':22,'sudhakar':28,'subbu':16}\n",
    "x=[]\n",
    "for i in sl.values():\n",
    "    if i>20:\n",
    "        x.append(i)\n",
    "print('count of x is :',len(x))\n",
    "    \n"
   ]
  },
  {
   "cell_type": "code",
   "execution_count": 8,
   "metadata": {},
   "outputs": [
    {
     "name": "stdout",
     "output_type": "stream",
     "text": [
      "enter the value:23\n",
      "True\n"
     ]
    }
   ],
   "source": [
    "#3. Read the Input as number and print the output as true or false.\n",
    "#Example 1:\n",
    "#Input : 11\n",
    "#Output : True\n",
    "def prime(n):\n",
    "  x=0\n",
    "  for i in range(1,n+1):\n",
    "      if n%i==0:\n",
    "          x+=1\n",
    "  if x==2:\n",
    "      print(\"True\")\n",
    "  else:\n",
    "      print(\"False\")        \n",
    "n=int(input(\"enter the value:\"))\n",
    "prime(n)\n"
   ]
  },
  {
   "cell_type": "code",
   "execution_count": 15,
   "metadata": {},
   "outputs": [],
   "source": [
    "def prm(n):\n",
    "    for i in range(1,n+1):\n",
    "        print(i)"
   ]
  },
  {
   "cell_type": "code",
   "execution_count": 7,
   "metadata": {},
   "outputs": [
    {
     "name": "stdout",
     "output_type": "stream",
     "text": [
      "Enter a Num:99\n",
      "False\n"
     ]
    }
   ],
   "source": [
    "n=int(input('Enter a Num:'))\n",
    "x=[]\n",
    "for i in range(1,n+1):\n",
    "    if n%i==0:\n",
    "        x.append(i)\n",
    "\n",
    "if len(x)==2:print('True')\n",
    "else:print('False')\n"
   ]
  },
  {
   "cell_type": "code",
   "execution_count": 8,
   "metadata": {},
   "outputs": [
    {
     "name": "stdout",
     "output_type": "stream",
     "text": [
      "1 2 3 4 5 6 7 8 9 11 22 33 44 55 66 77 88 99 "
     ]
    }
   ],
   "source": [
    " 4#Read the input as two limits and print the output as palindrome count between the two limits\n",
    "\n",
    "for num in range(1,101):\n",
    "   temp=num\n",
    "   reverse=0\n",
    "   while temp>0:\n",
    "       reminder=temp%10\n",
    "       reverse=(reverse*10)+reminder\n",
    "       temp=temp//10\n",
    "   if num==reverse:\n",
    "       print(num,end=\" \")"
   ]
  },
  {
   "cell_type": "code",
   "execution_count": null,
   "metadata": {},
   "outputs": [],
   "source": []
  }
 ],
 "metadata": {
  "kernelspec": {
   "display_name": "Python 3",
   "language": "python",
   "name": "python3"
  },
  "language_info": {
   "codemirror_mode": {
    "name": "ipython",
    "version": 3
   },
   "file_extension": ".py",
   "mimetype": "text/x-python",
   "name": "python",
   "nbconvert_exporter": "python",
   "pygments_lexer": "ipython3",
   "version": "3.7.3"
  }
 },
 "nbformat": 4,
 "nbformat_minor": 2
}
